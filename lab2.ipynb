{
 "cells": [
  {
   "cell_type": "code",
   "execution_count": null,
   "metadata": {
    "colab": {
     "base_uri": "https://localhost:8080/"
    },
    "id": "vWVQ2Jia0vLq",
    "outputId": "c0ed6976-1825-48aa-b3d5-82bc8f681c6a"
   },
   "outputs": [
    {
     "name": "stdout",
     "output_type": "stream",
     "text": [
      "Show System RAM Memory:\n",
      "\n",
      "\n",
      "MemTotal:       13333552 kB\n",
      "\n",
      "\n",
      "Show Devices:\n",
      "\n",
      "[name: \"/device:CPU:0\"\n",
      "device_type: \"CPU\"\n",
      "memory_limit: 268435456\n",
      "locality {\n",
      "}\n",
      "incarnation: 3534437182968072192\n",
      ", name: \"/device:GPU:0\"\n",
      "device_type: \"GPU\"\n",
      "memory_limit: 14674281152\n",
      "locality {\n",
      "  bus_id: 1\n",
      "  links {\n",
      "  }\n",
      "}\n",
      "incarnation: 13417093528863942256\n",
      "physical_device_desc: \"device: 0, name: Tesla T4, pci bus id: 0000:00:04.0, compute capability: 7.5\"\n",
      "]\n"
     ]
    }
   ],
   "source": [
    "from tensorflow.python.client import device_lib\n",
    "print(\"Show System RAM Memory:\\n\\n\")\n",
    "!cat /proc/meminfo | egrep \"MemTotal*\"\n",
    "print(\"\\n\\nShow Devices:\\n\\n\"+str(device_lib.list_local_devices()))"
   ]
  },
  {
   "cell_type": "code",
   "execution_count": null,
   "metadata": {
    "colab": {
     "base_uri": "https://localhost:8080/",
     "height": 35
    },
    "id": "UoguI-6a3B-h",
    "outputId": "f353c278-22ad-4236-d878-6c99a6dd9c69"
   },
   "outputs": [
    {
     "data": {
      "application/vnd.google.colaboratory.intrinsic+json": {
       "type": "string"
      },
      "text/plain": [
       "'2.4.1'"
      ]
     },
     "execution_count": 2,
     "metadata": {
      "tags": []
     },
     "output_type": "execute_result"
    }
   ],
   "source": [
    "import tensorflow as tf\n",
    "tf.__version__"
   ]
  },
  {
   "cell_type": "code",
   "execution_count": 15,
   "metadata": {
    "colab": {
     "base_uri": "https://localhost:8080/"
    },
    "id": "-JOI2osZ323j",
    "outputId": "2bf3dea8-47a0-4382-cb24-3faaa979d28d"
   },
   "outputs": [
    {
     "name": "stdout",
     "output_type": "stream",
     "text": [
      "Mounted at /content/gdrive\n"
     ]
    }
   ],
   "source": [
    "from google.colab import drive\n",
    "drive.mount('/content/gdrive')"
   ]
  },
  {
   "cell_type": "markdown",
   "metadata": {
    "id": "4feJS19uBKSj"
   },
   "source": [
    "**Q1- A Keras code is provided for running hand written recognition on both GPU and CPU. Run\n",
    "the code on colab and your own machine and compare the results.**"
   ]
  },
  {
   "cell_type": "code",
   "execution_count": null,
   "metadata": {
    "colab": {
     "base_uri": "https://localhost:8080/"
    },
    "id": "2HUhGDxG7-_L",
    "outputId": "58429724-0a3c-4eee-a6d4-dd488c37bf0b"
   },
   "outputs": [
    {
     "name": "stdout",
     "output_type": "stream",
     "text": [
      "2021-03-27 04:38:10.181598: I tensorflow/stream_executor/platform/default/dso_loader.cc:49] Successfully opened dynamic library libcudart.so.11.0\n",
      "x_train shape: (60000, 28, 28, 1)\n",
      "60000 train samples\n",
      "10000 test samples\n",
      "2021-03-27 04:38:12.216833: I tensorflow/compiler/jit/xla_cpu_device.cc:41] Not creating XLA devices, tf_xla_enable_xla_devices not set\n",
      "2021-03-27 04:38:12.217655: I tensorflow/stream_executor/platform/default/dso_loader.cc:49] Successfully opened dynamic library libcuda.so.1\n",
      "2021-03-27 04:38:12.222820: I tensorflow/stream_executor/cuda/cuda_gpu_executor.cc:941] successful NUMA node read from SysFS had negative value (-1), but there must be at least one NUMA node, so returning NUMA node zero\n",
      "2021-03-27 04:38:12.223369: I tensorflow/core/common_runtime/gpu/gpu_device.cc:1720] Found device 0 with properties: \n",
      "pciBusID: 0000:00:04.0 name: Tesla T4 computeCapability: 7.5\n",
      "coreClock: 1.59GHz coreCount: 40 deviceMemorySize: 14.75GiB deviceMemoryBandwidth: 298.08GiB/s\n",
      "2021-03-27 04:38:12.223402: I tensorflow/stream_executor/platform/default/dso_loader.cc:49] Successfully opened dynamic library libcudart.so.11.0\n",
      "2021-03-27 04:38:12.225454: I tensorflow/stream_executor/platform/default/dso_loader.cc:49] Successfully opened dynamic library libcublas.so.11\n",
      "2021-03-27 04:38:12.225526: I tensorflow/stream_executor/platform/default/dso_loader.cc:49] Successfully opened dynamic library libcublasLt.so.11\n",
      "2021-03-27 04:38:12.226978: I tensorflow/stream_executor/platform/default/dso_loader.cc:49] Successfully opened dynamic library libcufft.so.10\n",
      "2021-03-27 04:38:12.227303: I tensorflow/stream_executor/platform/default/dso_loader.cc:49] Successfully opened dynamic library libcurand.so.10\n",
      "2021-03-27 04:38:12.228744: I tensorflow/stream_executor/platform/default/dso_loader.cc:49] Successfully opened dynamic library libcusolver.so.10\n",
      "2021-03-27 04:38:12.229212: I tensorflow/stream_executor/platform/default/dso_loader.cc:49] Successfully opened dynamic library libcusparse.so.11\n",
      "2021-03-27 04:38:12.229388: I tensorflow/stream_executor/platform/default/dso_loader.cc:49] Successfully opened dynamic library libcudnn.so.8\n",
      "2021-03-27 04:38:12.229486: I tensorflow/stream_executor/cuda/cuda_gpu_executor.cc:941] successful NUMA node read from SysFS had negative value (-1), but there must be at least one NUMA node, so returning NUMA node zero\n",
      "2021-03-27 04:38:12.230120: I tensorflow/stream_executor/cuda/cuda_gpu_executor.cc:941] successful NUMA node read from SysFS had negative value (-1), but there must be at least one NUMA node, so returning NUMA node zero\n",
      "2021-03-27 04:38:12.230855: I tensorflow/core/common_runtime/gpu/gpu_device.cc:1862] Adding visible gpu devices: 0\n",
      "2021-03-27 04:38:12.231315: I tensorflow/compiler/jit/xla_gpu_device.cc:99] Not creating XLA devices, tf_xla_enable_xla_devices not set\n",
      "2021-03-27 04:38:12.231445: I tensorflow/stream_executor/cuda/cuda_gpu_executor.cc:941] successful NUMA node read from SysFS had negative value (-1), but there must be at least one NUMA node, so returning NUMA node zero\n",
      "2021-03-27 04:38:12.231956: I tensorflow/core/common_runtime/gpu/gpu_device.cc:1720] Found device 0 with properties: \n",
      "pciBusID: 0000:00:04.0 name: Tesla T4 computeCapability: 7.5\n",
      "coreClock: 1.59GHz coreCount: 40 deviceMemorySize: 14.75GiB deviceMemoryBandwidth: 298.08GiB/s\n",
      "2021-03-27 04:38:12.231983: I tensorflow/stream_executor/platform/default/dso_loader.cc:49] Successfully opened dynamic library libcudart.so.11.0\n",
      "2021-03-27 04:38:12.232013: I tensorflow/stream_executor/platform/default/dso_loader.cc:49] Successfully opened dynamic library libcublas.so.11\n",
      "2021-03-27 04:38:12.232034: I tensorflow/stream_executor/platform/default/dso_loader.cc:49] Successfully opened dynamic library libcublasLt.so.11\n",
      "2021-03-27 04:38:12.232052: I tensorflow/stream_executor/platform/default/dso_loader.cc:49] Successfully opened dynamic library libcufft.so.10\n",
      "2021-03-27 04:38:12.232071: I tensorflow/stream_executor/platform/default/dso_loader.cc:49] Successfully opened dynamic library libcurand.so.10\n",
      "2021-03-27 04:38:12.232089: I tensorflow/stream_executor/platform/default/dso_loader.cc:49] Successfully opened dynamic library libcusolver.so.10\n",
      "2021-03-27 04:38:12.232108: I tensorflow/stream_executor/platform/default/dso_loader.cc:49] Successfully opened dynamic library libcusparse.so.11\n",
      "2021-03-27 04:38:12.232128: I tensorflow/stream_executor/platform/default/dso_loader.cc:49] Successfully opened dynamic library libcudnn.so.8\n",
      "2021-03-27 04:38:12.232197: I tensorflow/stream_executor/cuda/cuda_gpu_executor.cc:941] successful NUMA node read from SysFS had negative value (-1), but there must be at least one NUMA node, so returning NUMA node zero\n",
      "2021-03-27 04:38:12.232726: I tensorflow/stream_executor/cuda/cuda_gpu_executor.cc:941] successful NUMA node read from SysFS had negative value (-1), but there must be at least one NUMA node, so returning NUMA node zero\n",
      "2021-03-27 04:38:12.233223: I tensorflow/core/common_runtime/gpu/gpu_device.cc:1862] Adding visible gpu devices: 0\n",
      "2021-03-27 04:38:12.233266: I tensorflow/stream_executor/platform/default/dso_loader.cc:49] Successfully opened dynamic library libcudart.so.11.0\n",
      "2021-03-27 04:38:12.728282: I tensorflow/core/common_runtime/gpu/gpu_device.cc:1261] Device interconnect StreamExecutor with strength 1 edge matrix:\n",
      "2021-03-27 04:38:12.728337: I tensorflow/core/common_runtime/gpu/gpu_device.cc:1267]      0 \n",
      "2021-03-27 04:38:12.728358: I tensorflow/core/common_runtime/gpu/gpu_device.cc:1280] 0:   N \n",
      "2021-03-27 04:38:12.728557: I tensorflow/stream_executor/cuda/cuda_gpu_executor.cc:941] successful NUMA node read from SysFS had negative value (-1), but there must be at least one NUMA node, so returning NUMA node zero\n",
      "2021-03-27 04:38:12.729144: I tensorflow/stream_executor/cuda/cuda_gpu_executor.cc:941] successful NUMA node read from SysFS had negative value (-1), but there must be at least one NUMA node, so returning NUMA node zero\n",
      "2021-03-27 04:38:12.729710: I tensorflow/stream_executor/cuda/cuda_gpu_executor.cc:941] successful NUMA node read from SysFS had negative value (-1), but there must be at least one NUMA node, so returning NUMA node zero\n",
      "2021-03-27 04:38:12.730201: W tensorflow/core/common_runtime/gpu/gpu_bfc_allocator.cc:39] Overriding allow_growth setting because the TF_FORCE_GPU_ALLOW_GROWTH environment variable is set. Original config value was 0.\n",
      "2021-03-27 04:38:12.730254: I tensorflow/core/common_runtime/gpu/gpu_device.cc:1406] Created TensorFlow device (/job:localhost/replica:0/task:0/device:GPU:0 with 13788 MB memory) -> physical GPU (device: 0, name: Tesla T4, pci bus id: 0000:00:04.0, compute capability: 7.5)\n",
      "2021-03-27 04:38:12.813456: I tensorflow/compiler/mlir/mlir_graph_optimization_pass.cc:116] None of the MLIR optimization passes are enabled (registered 2)\n",
      "2021-03-27 04:38:12.813884: I tensorflow/core/platform/profile_utils/cpu_utils.cc:112] CPU Frequency: 2199995000 Hz\n",
      "Epoch 1/12\n",
      "2021-03-27 04:38:13.215213: I tensorflow/stream_executor/platform/default/dso_loader.cc:49] Successfully opened dynamic library libcublas.so.11\n",
      "2021-03-27 04:38:13.725990: I tensorflow/stream_executor/platform/default/dso_loader.cc:49] Successfully opened dynamic library libcublasLt.so.11\n",
      "2021-03-27 04:38:13.728696: I tensorflow/stream_executor/platform/default/dso_loader.cc:49] Successfully opened dynamic library libcudnn.so.8\n",
      "375/375 [==============================] - 6s 9ms/step - loss: 0.5316 - accuracy: 0.8305 - val_loss: 0.0641 - val_accuracy: 0.9813\n",
      "Epoch 2/12\n",
      "375/375 [==============================] - 3s 8ms/step - loss: 0.0965 - accuracy: 0.9716 - val_loss: 0.0484 - val_accuracy: 0.9848\n",
      "Epoch 3/12\n",
      "375/375 [==============================] - 3s 8ms/step - loss: 0.0651 - accuracy: 0.9808 - val_loss: 0.0465 - val_accuracy: 0.9873\n",
      "Epoch 4/12\n",
      "375/375 [==============================] - 3s 8ms/step - loss: 0.0536 - accuracy: 0.9837 - val_loss: 0.0363 - val_accuracy: 0.9889\n",
      "Epoch 5/12\n",
      "375/375 [==============================] - 3s 8ms/step - loss: 0.0455 - accuracy: 0.9853 - val_loss: 0.0389 - val_accuracy: 0.9895\n",
      "Epoch 6/12\n",
      "375/375 [==============================] - 3s 8ms/step - loss: 0.0396 - accuracy: 0.9871 - val_loss: 0.0362 - val_accuracy: 0.9898\n",
      "Epoch 7/12\n",
      "375/375 [==============================] - 3s 8ms/step - loss: 0.0330 - accuracy: 0.9889 - val_loss: 0.0370 - val_accuracy: 0.9898\n",
      "Epoch 8/12\n",
      "375/375 [==============================] - 3s 8ms/step - loss: 0.0331 - accuracy: 0.9901 - val_loss: 0.0384 - val_accuracy: 0.9896\n",
      "Epoch 9/12\n",
      "375/375 [==============================] - 3s 8ms/step - loss: 0.0292 - accuracy: 0.9903 - val_loss: 0.0411 - val_accuracy: 0.9895\n",
      "Epoch 10/12\n",
      "375/375 [==============================] - 3s 8ms/step - loss: 0.0267 - accuracy: 0.9915 - val_loss: 0.0387 - val_accuracy: 0.9907\n",
      "Epoch 11/12\n",
      "375/375 [==============================] - 3s 8ms/step - loss: 0.0231 - accuracy: 0.9918 - val_loss: 0.0385 - val_accuracy: 0.9897\n",
      "Epoch 12/12\n",
      "375/375 [==============================] - 3s 8ms/step - loss: 0.0230 - accuracy: 0.9929 - val_loss: 0.0397 - val_accuracy: 0.9905\n",
      "Test loss: 0.034783098846673965\n",
      "Test accuracy: 0.9904000163078308\n",
      "43.066391468048096\n"
     ]
    }
   ],
   "source": [
    "import time\n",
    "start = time.time()\n",
    "!python3 \"./mnist_cnn.py\"\n",
    "end = time.time()\n",
    "print(end - start)"
   ]
  },
  {
   "cell_type": "markdown",
   "metadata": {
    "id": "W5SJ4R1cBkt-"
   },
   "source": [
    "The time took in my machine is about 2763 seconds. Which is way higher than 43.06 seconds."
   ]
  },
  {
   "cell_type": "markdown",
   "metadata": {
    "id": "bGgPXcBYCJK6"
   },
   "source": [
    "**Step2. Implement handwritten recognition in Tensorflow using CNN**"
   ]
  },
  {
   "cell_type": "code",
   "execution_count": 6,
   "metadata": {
    "colab": {
     "base_uri": "https://localhost:8080/"
    },
    "id": "eSY6g5BrD-np",
    "outputId": "2f7ed48e-6f96-4696-8227-a71dbe59f9e6"
   },
   "outputs": [
    {
     "name": "stdout",
     "output_type": "stream",
     "text": [
      "Downloading data from https://storage.googleapis.com/tensorflow/tf-keras-datasets/mnist.npz\n",
      "11493376/11490434 [==============================] - 0s 0us/step\n"
     ]
    }
   ],
   "source": [
    "from tensorflow.keras.datasets import mnist\n",
    "from tensorflow.keras.models import Sequential\n",
    "from tensorflow.keras.layers import Dense, Dropout, Flatten\n",
    "from tensorflow.keras.layers import Conv2D, MaxPooling2D\n",
    "from tensorflow.keras import backend as K\n",
    "batch_size = 128\n",
    "num_classes = 10\n",
    "epochs = 12\n",
    "# input image dimensions\n",
    "img_rows, img_cols = 28, 28\n",
    "# the data, split between train and test sets\n",
    "(x_train, y_train), (x_test, y_test) = mnist.load_data()"
   ]
  },
  {
   "cell_type": "code",
   "execution_count": 7,
   "metadata": {
    "id": "Y4xRUR_vEcCW"
   },
   "outputs": [],
   "source": [
    "if K.image_data_format() == 'channels_first':\n",
    " x_train = x_train.reshape(x_train.shape[0], 1, img_rows, img_cols)\n",
    " x_test = x_test.reshape(x_test.shape[0], 1, img_rows, img_cols)\n",
    " input_shape = (1, img_rows, img_cols)\n",
    "else:\n",
    " x_train = x_train.reshape(x_train.shape[0], img_rows, img_cols, 1)\n",
    " x_test = x_test.reshape(x_test.shape[0], img_rows, img_cols, 1)\n",
    " input_shape = (img_rows, img_cols, 1)"
   ]
  },
  {
   "cell_type": "code",
   "execution_count": 8,
   "metadata": {
    "colab": {
     "base_uri": "https://localhost:8080/"
    },
    "id": "JQtZKCtiEkW5",
    "outputId": "d72b4371-2df5-484a-f8f6-764038630645"
   },
   "outputs": [
    {
     "name": "stdout",
     "output_type": "stream",
     "text": [
      "x_train shape: (60000, 28, 28, 1)\n",
      "60000 train samples\n",
      "10000 test samples\n"
     ]
    }
   ],
   "source": [
    "from tensorflow import keras\n",
    "x_train = x_train.astype('float32')\n",
    "x_test = x_test.astype('float32')\n",
    "x_train /= 255\n",
    "x_test /= 255\n",
    "print('x_train shape:', x_train.shape)\n",
    "print(x_train.shape[0], 'train samples')\n",
    "print(x_test.shape[0], 'test samples')\n",
    "# convert class vectors to binary class matrices\n",
    "y_train = keras.utils.to_categorical(y_train, num_classes)\n",
    "y_test = keras.utils.to_categorical(y_test, num_classes)"
   ]
  },
  {
   "cell_type": "code",
   "execution_count": 9,
   "metadata": {
    "id": "CVWPDE7rFcJj"
   },
   "outputs": [],
   "source": [
    "# Designing the model\n",
    "\n",
    "model = Sequential()\n",
    "model.add(Conv2D(32, kernel_size=(3, 3),activation='relu',\n",
    "input_shape=input_shape))\n",
    "model.add(Conv2D(64, (3, 3), activation='relu'))\n",
    "model.add(MaxPooling2D(pool_size=(2, 2)))\n",
    "model.add(Dropout(0.25))\n",
    "model.add(Flatten())\n",
    "model.add(Dense(128, activation='relu'))\n",
    "model.add(Dropout(0.5))\n",
    "model.add(Dense(num_classes, activation='softmax'))"
   ]
  },
  {
   "cell_type": "code",
   "execution_count": 10,
   "metadata": {
    "colab": {
     "base_uri": "https://localhost:8080/"
    },
    "id": "Maw8RQiZGcqA",
    "outputId": "520545bf-c1ef-411f-ff62-65684b3c1e40"
   },
   "outputs": [
    {
     "name": "stdout",
     "output_type": "stream",
     "text": [
      "Epoch 1/12\n",
      "375/375 [==============================] - 33s 7ms/step - loss: 0.5679 - accuracy: 0.8200 - val_loss: 0.0622 - val_accuracy: 0.9824\n",
      "Epoch 2/12\n",
      "375/375 [==============================] - 2s 6ms/step - loss: 0.1046 - accuracy: 0.9691 - val_loss: 0.0496 - val_accuracy: 0.9856\n",
      "Epoch 3/12\n",
      "375/375 [==============================] - 2s 6ms/step - loss: 0.0709 - accuracy: 0.9795 - val_loss: 0.0420 - val_accuracy: 0.9877\n",
      "Epoch 4/12\n",
      "375/375 [==============================] - 2s 6ms/step - loss: 0.0545 - accuracy: 0.9826 - val_loss: 0.0396 - val_accuracy: 0.9883\n",
      "Epoch 5/12\n",
      "375/375 [==============================] - 2s 6ms/step - loss: 0.0463 - accuracy: 0.9854 - val_loss: 0.0389 - val_accuracy: 0.9887\n",
      "Epoch 6/12\n",
      "375/375 [==============================] - 2s 6ms/step - loss: 0.0394 - accuracy: 0.9883 - val_loss: 0.0381 - val_accuracy: 0.9883\n",
      "Epoch 7/12\n",
      "375/375 [==============================] - 2s 6ms/step - loss: 0.0353 - accuracy: 0.9892 - val_loss: 0.0354 - val_accuracy: 0.9893\n",
      "Epoch 8/12\n",
      "375/375 [==============================] - 2s 6ms/step - loss: 0.0306 - accuracy: 0.9905 - val_loss: 0.0368 - val_accuracy: 0.9906\n",
      "Epoch 9/12\n",
      "375/375 [==============================] - 2s 6ms/step - loss: 0.0286 - accuracy: 0.9911 - val_loss: 0.0402 - val_accuracy: 0.9897\n",
      "Epoch 10/12\n",
      "375/375 [==============================] - 2s 6ms/step - loss: 0.0252 - accuracy: 0.9914 - val_loss: 0.0357 - val_accuracy: 0.9899\n",
      "Epoch 11/12\n",
      "375/375 [==============================] - 2s 6ms/step - loss: 0.0224 - accuracy: 0.9931 - val_loss: 0.0335 - val_accuracy: 0.9909\n",
      "Epoch 12/12\n",
      "375/375 [==============================] - 2s 6ms/step - loss: 0.0224 - accuracy: 0.9923 - val_loss: 0.0334 - val_accuracy: 0.9916\n",
      "Test loss: 0.03304050490260124\n",
      "Test accuracy: 0.9909999966621399\n"
     ]
    }
   ],
   "source": [
    "model.compile(loss='categorical_crossentropy',\n",
    " optimizer='adam',\n",
    " metrics=['accuracy'])\n",
    "\n",
    "history = model.fit(x_train, y_train,\n",
    " batch_size=batch_size,\n",
    " epochs=epochs,\n",
    " verbose=1,\n",
    " validation_split=0.2)\n",
    "\n",
    "\n",
    "score = model.evaluate(x_test, y_test, verbose=0)\n",
    "print('Test loss:', score[0])\n",
    "print('Test accuracy:', score[1])"
   ]
  },
  {
   "cell_type": "markdown",
   "metadata": {
    "id": "5TTaHO0tHJLR"
   },
   "source": [
    "**Q2- Explain the way that this model is designed. Talk about all the layers and their functionality.**"
   ]
  },
  {
   "cell_type": "markdown",
   "metadata": {
    "id": "otX-7RoMKF3Q"
   },
   "source": [
    "The input image is fed into series of CNN layers which includes convolution + relu, pooling , dropout and classification is done using flatten and softmax. \n",
    "\n",
    "*Hidden Layers*:\n",
    "\n",
    "The first two layers are convolutional layers with 32-3x3 , 64-3x3 filters each . First the input image is fed into the 32 filter two dimensional convolutional layer with relu activation . The output from the the 32 filter is sent into  64 filter two dimensional convolutional layer with relu activation. \n",
    "\n",
    "The data from the 64 filter convolutional network is fed into a pooling layer which reduces the amount of parameters and computation in the network. \n",
    "\n",
    "The dropout has been applied to cut too much association among features by dropping the weights (edges) at a probability.\n",
    "\n",
    "*Classification*:\n",
    "\n",
    "The multidimensional output is flattened and passed into dense function and normalized with softmax.  \n",
    "\n"
   ]
  },
  {
   "cell_type": "markdown",
   "metadata": {
    "id": "-wFs1kWdZvav"
   },
   "source": [
    "**Q3- Design the learning curve and talk about what you see.**"
   ]
  },
  {
   "cell_type": "code",
   "execution_count": 13,
   "metadata": {
    "colab": {
     "base_uri": "https://localhost:8080/",
     "height": 312
    },
    "id": "yFrxnXoaba4z",
    "outputId": "bf557bb0-b92b-45ad-c1bc-1b4fca6e6c13"
   },
   "outputs": [
    {
     "data": {
      "text/plain": [
       "<matplotlib.legend.Legend at 0x7f5922147f10>"
      ]
     },
     "execution_count": 13,
     "metadata": {
      "tags": []
     },
     "output_type": "execute_result"
    },
    {
     "data": {
      "image/png": "[encoded data removed]",
      "text/plain": [
       "<Figure size 432x288 with 1 Axes>"
      ]
     },
     "metadata": {
      "needs_background": "light",
      "tags": []
     },
     "output_type": "display_data"
    }
   ],
   "source": [
    "import matplotlib.pyplot as plt\n",
    "\n",
    "# summarize history for accuracy\n",
    "\n",
    "plt.plot(history.history['accuracy'])\n",
    "plt.plot(history.history['val_accuracy'])\n",
    "plt.title('model accuracy')\n",
    "plt.ylabel('accuracy')\n",
    "plt.xlabel('epoch')\n",
    "plt.legend(['train', 'test'], loc='lower right')\n"
   ]
  },
  {
   "cell_type": "code",
   "execution_count": 14,
   "metadata": {
    "colab": {
     "base_uri": "https://localhost:8080/",
     "height": 177
    },
    "id": "SekvgyP4fdCA",
    "outputId": "f2feeefd-a147-4993-f700-ba0dfc65d870"
   },
   "outputs": [
    {
     "data": {
      "image/png": "[encoded data removed]",
      "text/plain": [
       "<Figure size 432x288 with 1 Axes>"
      ]
     },
     "metadata": {
      "needs_background": "light",
      "tags": []
     },
     "output_type": "display_data"
    }
   ],
   "source": [
    "\n",
    "# summarize history for loss\n",
    "plt.subplot(2,1,2)\n",
    "plt.plot(history.history['loss'])\n",
    "plt.plot(history.history['val_loss'])\n",
    "plt.title('model loss')\n",
    "plt.ylabel('loss')\n",
    "plt.xlabel('epoch')\n",
    "plt.legend(['train', 'test'], loc='upper right')\n",
    "plt.show()"
   ]
  },
  {
   "cell_type": "markdown",
   "metadata": {
    "id": "pwnnC96Tf3jF"
   },
   "source": [
    "The accuracy of the model and the loss remained  consistent with the increase in number of epoch's. The model looks accurate, The model looks like a good fit as the training and validation loss decreases to a point of stability with a minimal gap between the two final loss values."
   ]
  },
  {
   "cell_type": "markdown",
   "metadata": {
    "id": "zsV2SvTJhdNb"
   },
   "source": []
  }
 ],
 "metadata": {
  "accelerator": "GPU",
  "colab": {
   "collapsed_sections": [],
   "name": "lab2.ipynb",
   "provenance": [],
   "toc_visible": true
  },
  "kernelspec": {
   "display_name": "Python 3",
   "language": "python",
   "name": "python3"
  },
  "language_info": {
   "codemirror_mode": {
    "name": "ipython",
    "version": 3
   },
   "file_extension": ".py",
   "mimetype": "text/x-python",
   "name": "python",
   "nbconvert_exporter": "python",
   "pygments_lexer": "ipython3",
   "version": "3.8.5"
  }
 },
 "nbformat": 4,
 "nbformat_minor": 1
}
