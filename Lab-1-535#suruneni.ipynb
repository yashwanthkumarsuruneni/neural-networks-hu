{
 "cells": [
  {
   "cell_type": "markdown",
   "metadata": {},
   "source": [
    "## STEP-1 - Warm Up"
   ]
  },
  {
   "cell_type": "code",
   "execution_count": 7,
   "metadata": {},
   "outputs": [
    {
     "name": "stdout",
     "output_type": "stream",
     "text": [
      "tf.Tensor(b'Hello, TensorFlow!', shape=(), dtype=string)\n"
     ]
    }
   ],
   "source": [
    "import tensorflow as tf\n",
    "hello = tf.constant('Hello, TensorFlow!')\n",
    "print(hello)"
   ]
  },
  {
   "cell_type": "markdown",
   "metadata": {},
   "source": [
    "#### Analyze the response and explain what tf.constant() command do"
   ]
  },
  {
   "cell_type": "markdown",
   "metadata": {},
   "source": [
    "The tf.constant creates a constant tensor from a tensor-like object. The function accepts four arguments which can be tweaked to create the desired tensor. \n",
    "\n",
    "1. value : A constant value (or list) of output type dtype.\n",
    "2. dtype : The type of the elements of the resulting tensor.\n",
    "3. shape : Optional dimensions of resulting tensor.\n",
    "4. name  : The name of the Tensor. \n",
    "\n",
    "We can pass in multidimensional numpy array , or we can even pass in the shape values (the dimensions) which convert the scalars to fill the requested shape."
   ]
  },
  {
   "cell_type": "markdown",
   "metadata": {},
   "source": [
    "## STEP-2 - Implement OCR code in Tensorflow"
   ]
  },
  {
   "cell_type": "code",
   "execution_count": 10,
   "metadata": {},
   "outputs": [],
   "source": [
    "import matplotlib.pyplot as plt\n",
    "\n",
    "mnist = tf.keras.datasets.mnist\n",
    "(X_train, y_train), (X_test, y_test) = mnist.load_data()"
   ]
  },
  {
   "cell_type": "markdown",
   "metadata": {},
   "source": [
    "### Q1. Use same method that explain in lecture to show first 6 elements of the dataset. You should see:"
   ]
  },
  {
   "cell_type": "code",
   "execution_count": 14,
   "metadata": {},
   "outputs": [
    {
     "data": {
      "image/png": "[encoded data removed]",
      "text/plain": [
       "<Figure size 432x288 with 6 Axes>"
      ]
     },
     "metadata": {
      "needs_background": "light"
     },
     "output_type": "display_data"
    }
   ],
   "source": [
    "plt.subplot(231)\n",
    "plt.imshow(X_train[0], cmap=plt.get_cmap('gray'))\n",
    "plt.subplot(232)\n",
    "plt.imshow(X_train[1], cmap=plt.get_cmap('gray'))\n",
    "plt.subplot(233)\n",
    "plt.imshow(X_train[2], cmap=plt.get_cmap('gray'))\n",
    "plt.subplot(234)\n",
    "plt.imshow(X_train[3], cmap=plt.get_cmap('gray'))\n",
    "plt.subplot(235)\n",
    "plt.imshow(X_train[4], cmap=plt.get_cmap('gray'))\n",
    "plt.subplot(236)\n",
    "plt.imshow(X_train[5], cmap=plt.get_cmap('gray'))\n",
    "# show the plot\n",
    "plt.show()"
   ]
  },
  {
   "cell_type": "markdown",
   "metadata": {},
   "source": [
    "### Q2- Normalize the data by dividing the values by 255."
   ]
  },
  {
   "cell_type": "code",
   "execution_count": 15,
   "metadata": {},
   "outputs": [],
   "source": [
    "num_pixels = X_train.shape[1] * X_train.shape[2]\n",
    "X_train = X_train.reshape(X_train.shape[0], num_pixels)\n",
    "X_test = X_test.reshape(X_test.shape[0], num_pixels)\n",
    "\n",
    "# normalize inputs from 0-255 to 0-1\n",
    "X_train = X_train / 255\n",
    "X_test = X_test / 255"
   ]
  },
  {
   "cell_type": "code",
   "execution_count": 17,
   "metadata": {},
   "outputs": [
    {
     "data": {
      "text/plain": [
       "array([[-0.80573344, -0.65794253,  0.07442356,  0.08313322, -0.8074064 ,\n",
       "        -0.98657477, -0.46783835, -0.23647077,  0.25901243, -0.34967935]],\n",
       "      dtype=float32)"
      ]
     },
     "execution_count": 17,
     "metadata": {},
     "output_type": "execute_result"
    }
   ],
   "source": [
    "model = tf.keras.models.Sequential([\n",
    " tf.keras.layers.Flatten(input_shape=(28, 28)),\n",
    " tf.keras.layers.Dense(128, activation='sigmoid'),\n",
    " tf.keras.layers.Dense(10)\n",
    "])\n",
    "\n",
    "# Run this model on our training data and see the result of the network\n",
    "predictions= model(X_train[:1]).numpy()\n",
    "predictions"
   ]
  },
  {
   "cell_type": "code",
   "execution_count": 18,
   "metadata": {},
   "outputs": [
    {
     "data": {
      "text/plain": [
       "array([[0.30880043, 0.34120196, 0.5185973 , 0.5207713 , 0.30844343,\n",
       "        0.27158916, 0.38512802, 0.44115627, 0.5643935 , 0.4134602 ]],\n",
       "      dtype=float32)"
      ]
     },
     "execution_count": 18,
     "metadata": {},
     "output_type": "execute_result"
    }
   ],
   "source": [
    "# Adding activation function in the last node\n",
    "tf.nn.sigmoid(predictions).numpy()"
   ]
  },
  {
   "cell_type": "code",
   "execution_count": 22,
   "metadata": {},
   "outputs": [],
   "source": [
    "# cross entropy as the loss function\n",
    "loss_fn = tf.keras.losses.SparseCategoricalCrossentropy(from_logits=True)"
   ]
  },
  {
   "cell_type": "code",
   "execution_count": 20,
   "metadata": {},
   "outputs": [
    {
     "data": {
      "text/plain": [
       "2.9831533"
      ]
     },
     "execution_count": 20,
     "metadata": {},
     "output_type": "execute_result"
    }
   ],
   "source": [
    "loss_fn(y_train[:1], predictions).numpy()"
   ]
  },
  {
   "cell_type": "code",
   "execution_count": 23,
   "metadata": {},
   "outputs": [
    {
     "name": "stdout",
     "output_type": "stream",
     "text": [
      "Epoch 1/5\n",
      "WARNING:tensorflow:Model was constructed with shape (None, 28, 28) for input Tensor(\"flatten_1_input:0\", shape=(None, 28, 28), dtype=float32), but it was called on an input with incompatible shape (32, 784).\n",
      "WARNING:tensorflow:Model was constructed with shape (None, 28, 28) for input Tensor(\"flatten_1_input:0\", shape=(None, 28, 28), dtype=float32), but it was called on an input with incompatible shape (32, 784).\n",
      "1875/1875 [==============================] - 5s 3ms/step - loss: 0.3796 - accuracy: 0.8958\n",
      "Epoch 2/5\n",
      "1875/1875 [==============================] - 6s 3ms/step - loss: 0.3606 - accuracy: 0.8998\n",
      "Epoch 3/5\n",
      "1875/1875 [==============================] - 5s 3ms/step - loss: 0.3460 - accuracy: 0.9025\n",
      "Epoch 4/5\n",
      "1875/1875 [==============================] - 4s 2ms/step - loss: 0.3344 - accuracy: 0.9056\n",
      "Epoch 5/5\n",
      "1875/1875 [==============================] - 6s 3ms/step - loss: 0.3250 - accuracy: 0.9075\n"
     ]
    },
    {
     "data": {
      "text/plain": [
       "<tensorflow.python.keras.callbacks.History at 0x7f3448196730>"
      ]
     },
     "execution_count": 23,
     "metadata": {},
     "output_type": "execute_result"
    }
   ],
   "source": [
    "model.compile(optimizer='SGD',loss=loss_fn, metrics=['accuracy'])\n",
    "model.fit(X_train, y_train, epochs=5)"
   ]
  },
  {
   "cell_type": "code",
   "execution_count": 29,
   "metadata": {},
   "outputs": [
    {
     "name": "stdout",
     "output_type": "stream",
     "text": [
      "WARNING:tensorflow:Model was constructed with shape (None, 28, 28) for input Tensor(\"flatten_1_input:0\", shape=(None, 28, 28), dtype=float32), but it was called on an input with incompatible shape (None, 784).\n",
      "313/313 - 1s - loss: 0.3054 - accuracy: 0.9140\n"
     ]
    },
    {
     "data": {
      "text/plain": [
       "[0.3054186701774597, 0.9139999747276306]"
      ]
     },
     "execution_count": 29,
     "metadata": {},
     "output_type": "execute_result"
    }
   ],
   "source": [
    "model.evaluate(X_test, y_test, verbose=2)"
   ]
  },
  {
   "cell_type": "markdown",
   "metadata": {},
   "source": [
    "### Q3- Add another layer with 128 nodes, increase the epochs to 10 and report the result. How much is the accuracy? (model.evaluate can tell you the accuracy). "
   ]
  },
  {
   "cell_type": "code",
   "execution_count": 24,
   "metadata": {},
   "outputs": [
    {
     "name": "stdout",
     "output_type": "stream",
     "text": [
      "Epoch 1/10\n",
      "WARNING:tensorflow:Model was constructed with shape (None, 28, 28) for input Tensor(\"flatten_2_input:0\", shape=(None, 28, 28), dtype=float32), but it was called on an input with incompatible shape (32, 784).\n",
      "WARNING:tensorflow:Model was constructed with shape (None, 28, 28) for input Tensor(\"flatten_2_input:0\", shape=(None, 28, 28), dtype=float32), but it was called on an input with incompatible shape (32, 784).\n",
      "1875/1875 [==============================] - 6s 3ms/step - loss: 2.2014 - accuracy: 0.3479\n",
      "Epoch 2/10\n",
      "1875/1875 [==============================] - 6s 3ms/step - loss: 1.7033 - accuracy: 0.6252\n",
      "Epoch 3/10\n",
      "1875/1875 [==============================] - 6s 3ms/step - loss: 1.0682 - accuracy: 0.7504\n",
      "Epoch 4/10\n",
      "1875/1875 [==============================] - 5s 3ms/step - loss: 0.7507 - accuracy: 0.8171\n",
      "Epoch 5/10\n",
      "1875/1875 [==============================] - 5s 3ms/step - loss: 0.5942 - accuracy: 0.8503\n",
      "Epoch 6/10\n",
      "1875/1875 [==============================] - 5s 3ms/step - loss: 0.5064 - accuracy: 0.8686\n",
      "Epoch 7/10\n",
      "1875/1875 [==============================] - 5s 3ms/step - loss: 0.4519 - accuracy: 0.8795\n",
      "Epoch 8/10\n",
      "1875/1875 [==============================] - 5s 3ms/step - loss: 0.4156 - accuracy: 0.8876\n",
      "Epoch 9/10\n",
      "1875/1875 [==============================] - 5s 3ms/step - loss: 0.3896 - accuracy: 0.8925\n",
      "Epoch 10/10\n",
      "1875/1875 [==============================] - 6s 3ms/step - loss: 0.3699 - accuracy: 0.8972\n"
     ]
    },
    {
     "data": {
      "text/plain": [
       "<tensorflow.python.keras.callbacks.History at 0x7f34480cc400>"
      ]
     },
     "execution_count": 24,
     "metadata": {},
     "output_type": "execute_result"
    }
   ],
   "source": [
    "# Adding a new layer with 128 nodes \n",
    "\n",
    "new_model = tf.keras.models.Sequential([\n",
    " tf.keras.layers.Flatten(input_shape=(28, 28)),\n",
    " tf.keras.layers.Dense(128, activation='sigmoid'),\n",
    " tf.keras.layers.Dense(128, activation='sigmoid'),\n",
    " tf.keras.layers.Dense(10)\n",
    "])\n",
    "\n",
    "predictions_new= new_model(X_train[:1]).numpy()\n",
    "predictions_new\n",
    "\n",
    "# Adding activation function in the last node\n",
    "tf.nn.sigmoid(predictions_new).numpy()\n",
    "\n",
    "# cross entropy as the loss function\n",
    "loss_fn = tf.keras.losses.SparseCategoricalCrossentropy(from_logits=True)\n",
    "\n",
    "loss_fn(y_train[:1], predictions_new).numpy()\n",
    "\n",
    "# Increasing the epochs to 10\n",
    "\n",
    "new_model.compile(optimizer='SGD',loss=loss_fn, metrics=['accuracy'])\n",
    "new_model.fit(X_train, y_train, epochs=10)\n"
   ]
  },
  {
   "cell_type": "code",
   "execution_count": 30,
   "metadata": {},
   "outputs": [
    {
     "name": "stdout",
     "output_type": "stream",
     "text": [
      "313/313 - 1s - loss: 0.3482 - accuracy: 0.9013\n"
     ]
    },
    {
     "data": {
      "text/plain": [
       "[0.34821054339408875, 0.9013000130653381]"
      ]
     },
     "execution_count": 30,
     "metadata": {},
     "output_type": "execute_result"
    }
   ],
   "source": [
    "# evaluating the model\n",
    "new_model.evaluate(X_test, y_test, verbose=2)"
   ]
  },
  {
   "cell_type": "code",
   "execution_count": 34,
   "metadata": {},
   "outputs": [
    {
     "name": "stdout",
     "output_type": "stream",
     "text": [
      "Epoch 1/10\n",
      "1492/1500 [============================>.] - ETA: 0s - loss: 0.3613 - accuracy: 0.8984WARNING:tensorflow:Model was constructed with shape (None, 28, 28) for input Tensor(\"flatten_2_input:0\", shape=(None, 28, 28), dtype=float32), but it was called on an input with incompatible shape (32, 784).\n",
      "1500/1500 [==============================] - 6s 4ms/step - loss: 0.3608 - accuracy: 0.8985 - val_loss: 0.3310 - val_accuracy: 0.9061\n",
      "Epoch 2/10\n",
      "1500/1500 [==============================] - 5s 3ms/step - loss: 0.3499 - accuracy: 0.9010 - val_loss: 0.3213 - val_accuracy: 0.9083\n",
      "Epoch 3/10\n",
      "1500/1500 [==============================] - 6s 4ms/step - loss: 0.3406 - accuracy: 0.9036 - val_loss: 0.3144 - val_accuracy: 0.9105\n",
      "Epoch 4/10\n",
      "1500/1500 [==============================] - 7s 4ms/step - loss: 0.3324 - accuracy: 0.9053 - val_loss: 0.3066 - val_accuracy: 0.9122\n",
      "Epoch 5/10\n",
      "1500/1500 [==============================] - 6s 4ms/step - loss: 0.3250 - accuracy: 0.9066 - val_loss: 0.3006 - val_accuracy: 0.9137\n",
      "Epoch 6/10\n",
      "1500/1500 [==============================] - 6s 4ms/step - loss: 0.3184 - accuracy: 0.9087 - val_loss: 0.2958 - val_accuracy: 0.9147\n",
      "Epoch 7/10\n",
      "1500/1500 [==============================] - 5s 4ms/step - loss: 0.3122 - accuracy: 0.9102 - val_loss: 0.2898 - val_accuracy: 0.9163\n",
      "Epoch 8/10\n",
      "1500/1500 [==============================] - 5s 4ms/step - loss: 0.3064 - accuracy: 0.9114 - val_loss: 0.2853 - val_accuracy: 0.9183\n",
      "Epoch 9/10\n",
      "1500/1500 [==============================] - 5s 4ms/step - loss: 0.3012 - accuracy: 0.9129 - val_loss: 0.2807 - val_accuracy: 0.9195\n",
      "Epoch 10/10\n",
      "1500/1500 [==============================] - 5s 3ms/step - loss: 0.2961 - accuracy: 0.9141 - val_loss: 0.2765 - val_accuracy: 0.9212\n"
     ]
    }
   ],
   "source": [
    "hist = new_model.fit(X_train, y_train, validation_split=0.2, epochs=10)"
   ]
  },
  {
   "cell_type": "code",
   "execution_count": 35,
   "metadata": {},
   "outputs": [
    {
     "data": {
      "image/png": "[encoded data removed]",
      "text/plain": [
       "<Figure size 432x288 with 2 Axes>"
      ]
     },
     "metadata": {
      "needs_background": "light"
     },
     "output_type": "display_data"
    }
   ],
   "source": [
    "plt.subplot(2,1,1)\n",
    "plt.plot(hist.history['accuracy'])\n",
    "plt.plot(hist.history['val_accuracy'])\n",
    "plt.title('model accuracy')\n",
    "plt.ylabel('accuracy')\n",
    "plt.xlabel('epoch')\n",
    "plt.legend(['train', 'test'], loc='lower right')\n",
    "\n",
    "plt.subplot(2,1,2)\n",
    "plt.plot(hist.history['loss'])\n",
    "plt.plot(hist.history['val_loss'])\n",
    "plt.title('model loss')\n",
    "plt.ylabel('loss')\n",
    "plt.xlabel('epoch')\n",
    "plt.legend(['train', 'test'], loc='upper right')\n",
    "plt.show()"
   ]
  },
  {
   "cell_type": "code",
   "execution_count": 37,
   "metadata": {},
   "outputs": [],
   "source": [
    "# dropout to remove fix the overfitting problem\n",
    "\n",
    "model_new = tf.keras.models.Sequential([\n",
    " tf.keras.layers.Flatten(input_shape=(28, 28)),\n",
    " tf.keras.layers.Dense(128, activation='sigmoid'),\n",
    " tf.keras.layers.Dense(128, activation='sigmoid'),\n",
    " tf.keras.layers.Dropout(0.2),\n",
    " tf.keras.layers.Dense(10)])"
   ]
  },
  {
   "cell_type": "markdown",
   "metadata": {},
   "source": [
    "### Q4- Now train the model again with adding stochastic gradient descent with batch size of 200. What do you expect to be changed? Speed or accuracy?"
   ]
  },
  {
   "cell_type": "code",
   "execution_count": 42,
   "metadata": {},
   "outputs": [
    {
     "name": "stdout",
     "output_type": "stream",
     "text": [
      "Epoch 1/10\n",
      "WARNING:tensorflow:Model was constructed with shape (None, 28, 28) for input Tensor(\"flatten_5_input:0\", shape=(None, 28, 28), dtype=float32), but it was called on an input with incompatible shape (200, 784).\n",
      "WARNING:tensorflow:Model was constructed with shape (None, 28, 28) for input Tensor(\"flatten_5_input:0\", shape=(None, 28, 28), dtype=float32), but it was called on an input with incompatible shape (200, 784).\n",
      "300/300 [==============================] - 1s 5ms/step - loss: 0.9591 - accuracy: 0.7121\n",
      "Epoch 2/10\n",
      "300/300 [==============================] - 1s 5ms/step - loss: 0.9201 - accuracy: 0.7248\n",
      "Epoch 3/10\n",
      "300/300 [==============================] - 1s 5ms/step - loss: 0.8835 - accuracy: 0.7373\n",
      "Epoch 4/10\n",
      "300/300 [==============================] - 2s 5ms/step - loss: 0.8537 - accuracy: 0.7449\n",
      "Epoch 5/10\n",
      "300/300 [==============================] - 1s 5ms/step - loss: 0.8243 - accuracy: 0.7518\n",
      "Epoch 6/10\n",
      "300/300 [==============================] - 2s 5ms/step - loss: 0.7963 - accuracy: 0.7629\n",
      "Epoch 7/10\n",
      "300/300 [==============================] - 1s 5ms/step - loss: 0.7731 - accuracy: 0.7692\n",
      "Epoch 8/10\n",
      "300/300 [==============================] - 2s 5ms/step - loss: 0.7514 - accuracy: 0.7750\n",
      "Epoch 9/10\n",
      "300/300 [==============================] - 2s 5ms/step - loss: 0.7295 - accuracy: 0.7814\n",
      "Epoch 10/10\n",
      "300/300 [==============================] - 2s 6ms/step - loss: 0.7112 - accuracy: 0.7872\n"
     ]
    },
    {
     "data": {
      "text/plain": [
       "<tensorflow.python.keras.callbacks.History at 0x7f344a6377c0>"
      ]
     },
     "execution_count": 42,
     "metadata": {},
     "output_type": "execute_result"
    }
   ],
   "source": [
    "model_new.compile(optimizer='SGD',loss=loss_fn, metrics=['accuracy'])\n",
    "model_new.fit(X_train,y_train,batch_size=200,epochs=10)"
   ]
  },
  {
   "cell_type": "markdown",
   "metadata": {},
   "source": [
    "The Accuracy has went down from 92.12% to 78.72% "
   ]
  },
  {
   "cell_type": "markdown",
   "metadata": {},
   "source": [
    "## STEP-3 - Structured data"
   ]
  },
  {
   "cell_type": "code",
   "execution_count": 44,
   "metadata": {},
   "outputs": [
    {
     "data": {
      "text/html": [
       "<div>\n",
       "<style scoped>\n",
       "    .dataframe tbody tr th:only-of-type {\n",
       "        vertical-align: middle;\n",
       "    }\n",
       "\n",
       "    .dataframe tbody tr th {\n",
       "        vertical-align: top;\n",
       "    }\n",
       "\n",
       "    .dataframe thead th {\n",
       "        text-align: right;\n",
       "    }\n",
       "</style>\n",
       "<table border=\"1\" class=\"dataframe\">\n",
       "  <thead>\n",
       "    <tr style=\"text-align: right;\">\n",
       "      <th></th>\n",
       "      <th>ID</th>\n",
       "      <th>preg_no</th>\n",
       "      <th>plasma</th>\n",
       "      <th>diastolic</th>\n",
       "      <th>triceps</th>\n",
       "      <th>serum</th>\n",
       "      <th>mass</th>\n",
       "      <th>pedigree</th>\n",
       "      <th>age</th>\n",
       "      <th>diabete</th>\n",
       "    </tr>\n",
       "  </thead>\n",
       "  <tbody>\n",
       "    <tr>\n",
       "      <th>0</th>\n",
       "      <td>1</td>\n",
       "      <td>6</td>\n",
       "      <td>148</td>\n",
       "      <td>72</td>\n",
       "      <td>35</td>\n",
       "      <td>0</td>\n",
       "      <td>33.6</td>\n",
       "      <td>0.627</td>\n",
       "      <td>50</td>\n",
       "      <td>1</td>\n",
       "    </tr>\n",
       "    <tr>\n",
       "      <th>1</th>\n",
       "      <td>2</td>\n",
       "      <td>1</td>\n",
       "      <td>85</td>\n",
       "      <td>66</td>\n",
       "      <td>29</td>\n",
       "      <td>0</td>\n",
       "      <td>26.6</td>\n",
       "      <td>0.351</td>\n",
       "      <td>31</td>\n",
       "      <td>0</td>\n",
       "    </tr>\n",
       "    <tr>\n",
       "      <th>2</th>\n",
       "      <td>3</td>\n",
       "      <td>8</td>\n",
       "      <td>183</td>\n",
       "      <td>64</td>\n",
       "      <td>0</td>\n",
       "      <td>0</td>\n",
       "      <td>23.3</td>\n",
       "      <td>0.672</td>\n",
       "      <td>32</td>\n",
       "      <td>1</td>\n",
       "    </tr>\n",
       "    <tr>\n",
       "      <th>3</th>\n",
       "      <td>4</td>\n",
       "      <td>1</td>\n",
       "      <td>89</td>\n",
       "      <td>66</td>\n",
       "      <td>23</td>\n",
       "      <td>94</td>\n",
       "      <td>28.1</td>\n",
       "      <td>0.167</td>\n",
       "      <td>21</td>\n",
       "      <td>0</td>\n",
       "    </tr>\n",
       "    <tr>\n",
       "      <th>4</th>\n",
       "      <td>5</td>\n",
       "      <td>0</td>\n",
       "      <td>137</td>\n",
       "      <td>40</td>\n",
       "      <td>35</td>\n",
       "      <td>168</td>\n",
       "      <td>43.1</td>\n",
       "      <td>2.288</td>\n",
       "      <td>33</td>\n",
       "      <td>1</td>\n",
       "    </tr>\n",
       "  </tbody>\n",
       "</table>\n",
       "</div>"
      ],
      "text/plain": [
       "   ID  preg_no  plasma  diastolic  triceps  serum  mass  pedigree  age  \\\n",
       "0   1        6     148         72       35      0  33.6     0.627   50   \n",
       "1   2        1      85         66       29      0  26.6     0.351   31   \n",
       "2   3        8     183         64        0      0  23.3     0.672   32   \n",
       "3   4        1      89         66       23     94  28.1     0.167   21   \n",
       "4   5        0     137         40       35    168  43.1     2.288   33   \n",
       "\n",
       "   diabete  \n",
       "0        1  \n",
       "1        0  \n",
       "2        1  \n",
       "3        0  \n",
       "4        1  "
      ]
     },
     "execution_count": 44,
     "metadata": {},
     "output_type": "execute_result"
    }
   ],
   "source": [
    "import pandas as pd\n",
    "\n",
    "file = './pima-indians-diabetes.csv'\n",
    "dataframe = pd.read_csv(file)\n",
    "dataframe.head()"
   ]
  },
  {
   "cell_type": "code",
   "execution_count": 45,
   "metadata": {},
   "outputs": [
    {
     "data": {
      "text/html": [
       "<div>\n",
       "<style scoped>\n",
       "    .dataframe tbody tr th:only-of-type {\n",
       "        vertical-align: middle;\n",
       "    }\n",
       "\n",
       "    .dataframe tbody tr th {\n",
       "        vertical-align: top;\n",
       "    }\n",
       "\n",
       "    .dataframe thead th {\n",
       "        text-align: right;\n",
       "    }\n",
       "</style>\n",
       "<table border=\"1\" class=\"dataframe\">\n",
       "  <thead>\n",
       "    <tr style=\"text-align: right;\">\n",
       "      <th></th>\n",
       "      <th>ID</th>\n",
       "      <th>preg_no</th>\n",
       "      <th>plasma</th>\n",
       "      <th>diastolic</th>\n",
       "      <th>triceps</th>\n",
       "      <th>serum</th>\n",
       "      <th>mass</th>\n",
       "      <th>pedigree</th>\n",
       "      <th>age</th>\n",
       "      <th>diabete</th>\n",
       "    </tr>\n",
       "  </thead>\n",
       "  <tbody>\n",
       "    <tr>\n",
       "      <th>count</th>\n",
       "      <td>768.000000</td>\n",
       "      <td>768.000000</td>\n",
       "      <td>768.000000</td>\n",
       "      <td>768.000000</td>\n",
       "      <td>768.000000</td>\n",
       "      <td>768.000000</td>\n",
       "      <td>768.000000</td>\n",
       "      <td>768.000000</td>\n",
       "      <td>768.000000</td>\n",
       "      <td>768.000000</td>\n",
       "    </tr>\n",
       "    <tr>\n",
       "      <th>mean</th>\n",
       "      <td>384.500000</td>\n",
       "      <td>3.845052</td>\n",
       "      <td>120.894531</td>\n",
       "      <td>69.105469</td>\n",
       "      <td>20.536458</td>\n",
       "      <td>79.799479</td>\n",
       "      <td>31.992578</td>\n",
       "      <td>0.471876</td>\n",
       "      <td>33.240885</td>\n",
       "      <td>0.348958</td>\n",
       "    </tr>\n",
       "    <tr>\n",
       "      <th>std</th>\n",
       "      <td>221.846794</td>\n",
       "      <td>3.369578</td>\n",
       "      <td>31.972618</td>\n",
       "      <td>19.355807</td>\n",
       "      <td>15.952218</td>\n",
       "      <td>115.244002</td>\n",
       "      <td>7.884160</td>\n",
       "      <td>0.331329</td>\n",
       "      <td>11.760232</td>\n",
       "      <td>0.476951</td>\n",
       "    </tr>\n",
       "    <tr>\n",
       "      <th>min</th>\n",
       "      <td>1.000000</td>\n",
       "      <td>0.000000</td>\n",
       "      <td>0.000000</td>\n",
       "      <td>0.000000</td>\n",
       "      <td>0.000000</td>\n",
       "      <td>0.000000</td>\n",
       "      <td>0.000000</td>\n",
       "      <td>0.078000</td>\n",
       "      <td>21.000000</td>\n",
       "      <td>0.000000</td>\n",
       "    </tr>\n",
       "    <tr>\n",
       "      <th>25%</th>\n",
       "      <td>192.750000</td>\n",
       "      <td>1.000000</td>\n",
       "      <td>99.000000</td>\n",
       "      <td>62.000000</td>\n",
       "      <td>0.000000</td>\n",
       "      <td>0.000000</td>\n",
       "      <td>27.300000</td>\n",
       "      <td>0.243750</td>\n",
       "      <td>24.000000</td>\n",
       "      <td>0.000000</td>\n",
       "    </tr>\n",
       "    <tr>\n",
       "      <th>50%</th>\n",
       "      <td>384.500000</td>\n",
       "      <td>3.000000</td>\n",
       "      <td>117.000000</td>\n",
       "      <td>72.000000</td>\n",
       "      <td>23.000000</td>\n",
       "      <td>30.500000</td>\n",
       "      <td>32.000000</td>\n",
       "      <td>0.372500</td>\n",
       "      <td>29.000000</td>\n",
       "      <td>0.000000</td>\n",
       "    </tr>\n",
       "    <tr>\n",
       "      <th>75%</th>\n",
       "      <td>576.250000</td>\n",
       "      <td>6.000000</td>\n",
       "      <td>140.250000</td>\n",
       "      <td>80.000000</td>\n",
       "      <td>32.000000</td>\n",
       "      <td>127.250000</td>\n",
       "      <td>36.600000</td>\n",
       "      <td>0.626250</td>\n",
       "      <td>41.000000</td>\n",
       "      <td>1.000000</td>\n",
       "    </tr>\n",
       "    <tr>\n",
       "      <th>max</th>\n",
       "      <td>768.000000</td>\n",
       "      <td>17.000000</td>\n",
       "      <td>199.000000</td>\n",
       "      <td>122.000000</td>\n",
       "      <td>99.000000</td>\n",
       "      <td>846.000000</td>\n",
       "      <td>67.100000</td>\n",
       "      <td>2.420000</td>\n",
       "      <td>81.000000</td>\n",
       "      <td>1.000000</td>\n",
       "    </tr>\n",
       "  </tbody>\n",
       "</table>\n",
       "</div>"
      ],
      "text/plain": [
       "               ID     preg_no      plasma   diastolic     triceps       serum  \\\n",
       "count  768.000000  768.000000  768.000000  768.000000  768.000000  768.000000   \n",
       "mean   384.500000    3.845052  120.894531   69.105469   20.536458   79.799479   \n",
       "std    221.846794    3.369578   31.972618   19.355807   15.952218  115.244002   \n",
       "min      1.000000    0.000000    0.000000    0.000000    0.000000    0.000000   \n",
       "25%    192.750000    1.000000   99.000000   62.000000    0.000000    0.000000   \n",
       "50%    384.500000    3.000000  117.000000   72.000000   23.000000   30.500000   \n",
       "75%    576.250000    6.000000  140.250000   80.000000   32.000000  127.250000   \n",
       "max    768.000000   17.000000  199.000000  122.000000   99.000000  846.000000   \n",
       "\n",
       "             mass    pedigree         age     diabete  \n",
       "count  768.000000  768.000000  768.000000  768.000000  \n",
       "mean    31.992578    0.471876   33.240885    0.348958  \n",
       "std      7.884160    0.331329   11.760232    0.476951  \n",
       "min      0.000000    0.078000   21.000000    0.000000  \n",
       "25%     27.300000    0.243750   24.000000    0.000000  \n",
       "50%     32.000000    0.372500   29.000000    0.000000  \n",
       "75%     36.600000    0.626250   41.000000    1.000000  \n",
       "max     67.100000    2.420000   81.000000    1.000000  "
      ]
     },
     "execution_count": 45,
     "metadata": {},
     "output_type": "execute_result"
    }
   ],
   "source": [
    "dataframe.describe()"
   ]
  },
  {
   "cell_type": "code",
   "execution_count": 46,
   "metadata": {},
   "outputs": [],
   "source": [
    "y = dataframe['diabete']\n",
    "X = dataframe.drop(['ID','diabete'], axis=1)"
   ]
  },
  {
   "cell_type": "code",
   "execution_count": 47,
   "metadata": {},
   "outputs": [],
   "source": [
    "from sklearn.model_selection import train_test_split\n",
    "\n",
    "X_train, X_test, y_train, y_test = train_test_split(X, y, test_size=0.20, random_state=1234)"
   ]
  },
  {
   "cell_type": "code",
   "execution_count": 51,
   "metadata": {},
   "outputs": [
    {
     "name": "stdout",
     "output_type": "stream",
     "text": [
      "Epoch 1/25\n",
      "31/31 [==============================] - 1s 28ms/step - loss: 0.3313 - accuracy: 0.3469 - val_loss: 0.3157 - val_accuracy: 0.3571\n",
      "Epoch 2/25\n",
      "31/31 [==============================] - 0s 7ms/step - loss: 0.3081 - accuracy: 0.3469 - val_loss: 0.2956 - val_accuracy: 0.3571\n",
      "Epoch 3/25\n",
      "31/31 [==============================] - 0s 5ms/step - loss: 0.2889 - accuracy: 0.3469 - val_loss: 0.2794 - val_accuracy: 0.3571\n",
      "Epoch 4/25\n",
      "31/31 [==============================] - 0s 13ms/step - loss: 0.2737 - accuracy: 0.3469 - val_loss: 0.2665 - val_accuracy: 0.3636\n",
      "Epoch 5/25\n",
      "31/31 [==============================] - 0s 6ms/step - loss: 0.2618 - accuracy: 0.4137 - val_loss: 0.2570 - val_accuracy: 0.4221\n",
      "Epoch 6/25\n",
      "31/31 [==============================] - 0s 5ms/step - loss: 0.2526 - accuracy: 0.4691 - val_loss: 0.2500 - val_accuracy: 0.5000\n",
      "Epoch 7/25\n",
      "31/31 [==============================] - 0s 9ms/step - loss: 0.2458 - accuracy: 0.5440 - val_loss: 0.2450 - val_accuracy: 0.5909\n",
      "Epoch 8/25\n",
      "31/31 [==============================] - 0s 12ms/step - loss: 0.2408 - accuracy: 0.6466 - val_loss: 0.2413 - val_accuracy: 0.6429\n",
      "Epoch 9/25\n",
      "31/31 [==============================] - 0s 12ms/step - loss: 0.2371 - accuracy: 0.6482 - val_loss: 0.2387 - val_accuracy: 0.6429\n",
      "Epoch 10/25\n",
      "31/31 [==============================] - 0s 9ms/step - loss: 0.2344 - accuracy: 0.6531 - val_loss: 0.2368 - val_accuracy: 0.6429\n",
      "Epoch 11/25\n",
      "31/31 [==============================] - 0s 4ms/step - loss: 0.2324 - accuracy: 0.6531 - val_loss: 0.2353 - val_accuracy: 0.6429\n",
      "Epoch 12/25\n",
      "31/31 [==============================] - 0s 10ms/step - loss: 0.2308 - accuracy: 0.6531 - val_loss: 0.2342 - val_accuracy: 0.6429\n",
      "Epoch 13/25\n",
      "31/31 [==============================] - 0s 4ms/step - loss: 0.2297 - accuracy: 0.6531 - val_loss: 0.2332 - val_accuracy: 0.6429\n",
      "Epoch 14/25\n",
      "31/31 [==============================] - 0s 11ms/step - loss: 0.2287 - accuracy: 0.6531 - val_loss: 0.2324 - val_accuracy: 0.6429\n",
      "Epoch 15/25\n",
      "31/31 [==============================] - 0s 7ms/step - loss: 0.2280 - accuracy: 0.6531 - val_loss: 0.2318 - val_accuracy: 0.6429\n",
      "Epoch 16/25\n",
      "31/31 [==============================] - 0s 9ms/step - loss: 0.2275 - accuracy: 0.6531 - val_loss: 0.2313 - val_accuracy: 0.6429\n",
      "Epoch 17/25\n",
      "31/31 [==============================] - 0s 8ms/step - loss: 0.2270 - accuracy: 0.6531 - val_loss: 0.2308 - val_accuracy: 0.6429\n",
      "Epoch 18/25\n",
      "31/31 [==============================] - 0s 10ms/step - loss: 0.2266 - accuracy: 0.6531 - val_loss: 0.2304 - val_accuracy: 0.6429\n",
      "Epoch 19/25\n",
      "31/31 [==============================] - 0s 5ms/step - loss: 0.2263 - accuracy: 0.6531 - val_loss: 0.2302 - val_accuracy: 0.6429\n",
      "Epoch 20/25\n",
      "31/31 [==============================] - 0s 6ms/step - loss: 0.2260 - accuracy: 0.6531 - val_loss: 0.2300 - val_accuracy: 0.6429\n",
      "Epoch 21/25\n",
      "31/31 [==============================] - 0s 6ms/step - loss: 0.2259 - accuracy: 0.6531 - val_loss: 0.2298 - val_accuracy: 0.6429\n",
      "Epoch 22/25\n",
      "31/31 [==============================] - 0s 9ms/step - loss: 0.2256 - accuracy: 0.6531 - val_loss: 0.2297 - val_accuracy: 0.6429\n",
      "Epoch 23/25\n",
      "31/31 [==============================] - 0s 10ms/step - loss: 0.2254 - accuracy: 0.6531 - val_loss: 0.2296 - val_accuracy: 0.6429\n",
      "Epoch 24/25\n",
      "31/31 [==============================] - 0s 8ms/step - loss: 0.2252 - accuracy: 0.6531 - val_loss: 0.2296 - val_accuracy: 0.6429\n",
      "Epoch 25/25\n",
      "31/31 [==============================] - 0s 6ms/step - loss: 0.2251 - accuracy: 0.6531 - val_loss: 0.2295 - val_accuracy: 0.6429\n"
     ]
    },
    {
     "data": {
      "text/plain": [
       "<tensorflow.python.keras.callbacks.History at 0x7f341abe4e80>"
      ]
     },
     "execution_count": 51,
     "metadata": {},
     "output_type": "execute_result"
    }
   ],
   "source": [
    "from tensorflow.keras.models import Sequential\n",
    "from tensorflow.keras.layers import Dense\n",
    "\n",
    "# Neural network\n",
    "model = Sequential()\n",
    "\n",
    "model.add(Dense(12, input_dim=8, activation='sigmoid'))\n",
    "model.add(Dense(8, activation='sigmoid'))\n",
    "model.add(Dense(1, activation='sigmoid'))\n",
    "\n",
    "\n",
    "model.compile(loss='mean_squared_error', optimizer='sgd', metrics=['accuracy'])\n",
    "model.fit(X_train, y_train, validation_data=(X_test, y_test), epochs=25, batch_size=20)\n"
   ]
  },
  {
   "cell_type": "markdown",
   "metadata": {},
   "source": [
    "### Applying the dropout  and adam optimizer"
   ]
  },
  {
   "cell_type": "code",
   "execution_count": 55,
   "metadata": {},
   "outputs": [
    {
     "name": "stdout",
     "output_type": "stream",
     "text": [
      "Epoch 1/25\n",
      "31/31 [==============================] - 0s 6ms/step - loss: 0.2595 - accuracy: 0.6498 - val_loss: 0.2324 - val_accuracy: 0.6429\n",
      "Epoch 2/25\n",
      "31/31 [==============================] - 0s 4ms/step - loss: 0.2552 - accuracy: 0.6531 - val_loss: 0.2346 - val_accuracy: 0.6429\n",
      "Epoch 3/25\n",
      "31/31 [==============================] - 0s 3ms/step - loss: 0.2513 - accuracy: 0.6531 - val_loss: 0.2345 - val_accuracy: 0.6429\n",
      "Epoch 4/25\n",
      "31/31 [==============================] - 0s 3ms/step - loss: 0.2567 - accuracy: 0.6531 - val_loss: 0.2349 - val_accuracy: 0.6429\n",
      "Epoch 5/25\n",
      "31/31 [==============================] - 0s 4ms/step - loss: 0.2453 - accuracy: 0.6531 - val_loss: 0.2333 - val_accuracy: 0.6429\n",
      "Epoch 6/25\n",
      "31/31 [==============================] - 0s 4ms/step - loss: 0.2306 - accuracy: 0.6531 - val_loss: 0.2322 - val_accuracy: 0.6429\n",
      "Epoch 7/25\n",
      "31/31 [==============================] - 0s 3ms/step - loss: 0.2428 - accuracy: 0.6531 - val_loss: 0.2322 - val_accuracy: 0.6429\n",
      "Epoch 8/25\n",
      "31/31 [==============================] - 0s 3ms/step - loss: 0.2468 - accuracy: 0.6531 - val_loss: 0.2321 - val_accuracy: 0.6429\n",
      "Epoch 9/25\n",
      "31/31 [==============================] - 0s 3ms/step - loss: 0.2453 - accuracy: 0.6531 - val_loss: 0.2320 - val_accuracy: 0.6429\n",
      "Epoch 10/25\n",
      "31/31 [==============================] - 0s 3ms/step - loss: 0.2562 - accuracy: 0.6531 - val_loss: 0.2327 - val_accuracy: 0.6429\n",
      "Epoch 11/25\n",
      "31/31 [==============================] - 0s 4ms/step - loss: 0.2305 - accuracy: 0.6531 - val_loss: 0.2328 - val_accuracy: 0.6429\n",
      "Epoch 12/25\n",
      "31/31 [==============================] - 0s 4ms/step - loss: 0.2542 - accuracy: 0.6531 - val_loss: 0.2317 - val_accuracy: 0.6429\n",
      "Epoch 13/25\n",
      "31/31 [==============================] - 0s 4ms/step - loss: 0.2565 - accuracy: 0.6531 - val_loss: 0.2334 - val_accuracy: 0.6429\n",
      "Epoch 14/25\n",
      "31/31 [==============================] - 0s 4ms/step - loss: 0.2418 - accuracy: 0.6531 - val_loss: 0.2334 - val_accuracy: 0.6429\n",
      "Epoch 15/25\n",
      "31/31 [==============================] - 0s 3ms/step - loss: 0.2381 - accuracy: 0.6531 - val_loss: 0.2316 - val_accuracy: 0.6429\n",
      "Epoch 16/25\n",
      "31/31 [==============================] - 0s 3ms/step - loss: 0.2558 - accuracy: 0.6531 - val_loss: 0.2332 - val_accuracy: 0.6429\n",
      "Epoch 17/25\n",
      "31/31 [==============================] - 0s 3ms/step - loss: 0.2434 - accuracy: 0.6531 - val_loss: 0.2326 - val_accuracy: 0.6429\n",
      "Epoch 18/25\n",
      "31/31 [==============================] - 0s 2ms/step - loss: 0.2441 - accuracy: 0.6531 - val_loss: 0.2315 - val_accuracy: 0.6429\n",
      "Epoch 19/25\n",
      "31/31 [==============================] - 0s 4ms/step - loss: 0.2373 - accuracy: 0.6531 - val_loss: 0.2309 - val_accuracy: 0.6429\n",
      "Epoch 20/25\n",
      "31/31 [==============================] - 0s 3ms/step - loss: 0.2401 - accuracy: 0.6531 - val_loss: 0.2284 - val_accuracy: 0.6429\n",
      "Epoch 21/25\n",
      "31/31 [==============================] - 0s 4ms/step - loss: 0.2343 - accuracy: 0.6531 - val_loss: 0.2271 - val_accuracy: 0.6429\n",
      "Epoch 22/25\n",
      "31/31 [==============================] - 0s 5ms/step - loss: 0.2406 - accuracy: 0.6531 - val_loss: 0.2270 - val_accuracy: 0.6429\n",
      "Epoch 23/25\n",
      "31/31 [==============================] - 0s 5ms/step - loss: 0.2310 - accuracy: 0.6531 - val_loss: 0.2248 - val_accuracy: 0.6429\n",
      "Epoch 24/25\n",
      "31/31 [==============================] - 0s 4ms/step - loss: 0.2456 - accuracy: 0.6531 - val_loss: 0.2265 - val_accuracy: 0.6429\n",
      "Epoch 25/25\n",
      "31/31 [==============================] - 0s 3ms/step - loss: 0.2366 - accuracy: 0.6531 - val_loss: 0.2250 - val_accuracy: 0.6429\n"
     ]
    },
    {
     "data": {
      "text/plain": [
       "<tensorflow.python.keras.callbacks.History at 0x7f34191b33d0>"
      ]
     },
     "execution_count": 55,
     "metadata": {},
     "output_type": "execute_result"
    }
   ],
   "source": [
    "from tensorflow.keras.models import Sequential\n",
    "from tensorflow.keras.layers import Dense\n",
    "from tensorflow.keras.layers import Dropout\n",
    "\n",
    "# Neural network\n",
    "model = Sequential()\n",
    "\n",
    "model.add(Dense(12, input_dim=8, activation='sigmoid'))\n",
    "model.add(Dense(8, activation='sigmoid'))\n",
    "model.add(Dense(1, activation='sigmoid'))\n",
    "model.add(Dropout(0.2))\n",
    "\n",
    "\n",
    "model.compile(loss='mean_squared_error', optimizer='adam', metrics=['accuracy'])\n",
    "model.fit(X_train, y_train, validation_data=(X_test, y_test), epochs=25, batch_size=20)"
   ]
  },
  {
   "cell_type": "markdown",
   "metadata": {},
   "source": [
    "The accuracy didn't improve much and is still around 65.31 after the dropout and compiling with 'adam' optimizer."
   ]
  }
 ],
 "metadata": {
  "kernelspec": {
   "display_name": "Python 3",
   "language": "python",
   "name": "python3"
  },
  "language_info": {
   "codemirror_mode": {
    "name": "ipython",
    "version": 3
   },
   "file_extension": ".py",
   "mimetype": "text/x-python",
   "name": "python",
   "nbconvert_exporter": "python",
   "pygments_lexer": "ipython3",
   "version": "3.8.5"
  }
 },
 "nbformat": 4,
 "nbformat_minor": 4
}
