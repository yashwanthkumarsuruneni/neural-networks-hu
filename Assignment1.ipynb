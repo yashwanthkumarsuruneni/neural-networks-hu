{
 "cells": [
  {
   "cell_type": "markdown",
   "metadata": {},
   "source": [
    "# Assignment-1 \n",
    "## Yashwanth K Suruneni"
   ]
  },
  {
   "cell_type": "markdown",
   "metadata": {},
   "source": [
    "Two sensors are installed in Susquehanna river that can measure the level of the water on two different locations. Their measurements goes through a neural network and the output shows if there is a chance of flood or not (y=1 means there is a chance of flood). Suppose sensor 1 shows 0.2 feet while the second one shows 0.4 feet. Is there any chance of flood?"
   ]
  },
  {
   "cell_type": "code",
   "execution_count": 26,
   "metadata": {},
   "outputs": [],
   "source": [
    "import numpy as np"
   ]
  },
  {
   "cell_type": "code",
   "execution_count": 27,
   "metadata": {},
   "outputs": [],
   "source": [
    "# W1 is  4x2\n",
    "# For first layer Z=4x1, W= 2x4, b=4x1\n",
    "np.random.seed(seed= 289)\n",
    "x = np.array([[0.4], [0.2]])\n",
    "W1 = np.random.rand(2,4)\n",
    "b1 = np.random.rand(4,1) # You find the value of b1"
   ]
  },
  {
   "cell_type": "code",
   "execution_count": 28,
   "metadata": {},
   "outputs": [
    {
     "data": {
      "text/plain": [
       "array([[0.13835837],\n",
       "       [0.5597355 ],\n",
       "       [0.48966863],\n",
       "       [0.61544854]])"
      ]
     },
     "execution_count": 28,
     "metadata": {},
     "output_type": "execute_result"
    }
   ],
   "source": [
    "b1"
   ]
  },
  {
   "cell_type": "code",
   "execution_count": 29,
   "metadata": {},
   "outputs": [
    {
     "data": {
      "text/plain": [
       "array([[0.64721637],\n",
       "       [0.70273636],\n",
       "       [0.65571789],\n",
       "       [0.72844418]])"
      ]
     },
     "execution_count": 29,
     "metadata": {},
     "output_type": "execute_result"
    }
   ],
   "source": [
    "z1 = np.dot(W1.transpose(),x)+b1  # Complete this section\n",
    "# Passing through Sigmoid function\n",
    "a1 = 1/(1+np.exp(-z1))\n",
    "a1"
   ]
  },
  {
   "cell_type": "code",
   "execution_count": 30,
   "metadata": {},
   "outputs": [],
   "source": [
    "# W2 is ?\n",
    "np.random.seed(seed=289)\n",
    "W2 = np.random.rand(4,1)\n",
    "b2 = np.random.rand(1,1)"
   ]
  },
  {
   "cell_type": "code",
   "execution_count": 31,
   "metadata": {},
   "outputs": [
    {
     "data": {
      "text/plain": [
       "1"
      ]
     },
     "execution_count": 31,
     "metadata": {},
     "output_type": "execute_result"
    }
   ],
   "source": [
    "z2 = np.dot(W2.transpose(),a1)\n",
    "# Passing through Sigmoid function\n",
    "a2 = 1/(1+np.exp(-z2)) # y\n",
    "# Rounding up to the nearest integer \n",
    "round(a2[0,0])"
   ]
  },
  {
   "cell_type": "markdown",
   "metadata": {},
   "source": [
    "## Conclusion\n",
    "\n",
    "#### There is a chance of flood in Susquehanna when sensor one shows 0.2 feet and sensor two shows 0.4 feet. \n"
   ]
  }
 ],
 "metadata": {
  "kernelspec": {
   "display_name": "Python 3",
   "language": "python",
   "name": "python3"
  },
  "language_info": {
   "codemirror_mode": {
    "name": "ipython",
    "version": 3
   },
   "file_extension": ".py",
   "mimetype": "text/x-python",
   "name": "python",
   "nbconvert_exporter": "python",
   "pygments_lexer": "ipython3",
   "version": "3.8.5"
  }
 },
 "nbformat": 4,
 "nbformat_minor": 2
}
