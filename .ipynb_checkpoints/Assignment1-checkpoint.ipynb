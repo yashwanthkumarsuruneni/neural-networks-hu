{
 "cells": [
  {
   "cell_type": "code",
   "execution_count": 35,
   "metadata": {},
   "outputs": [],
   "source": [
    "import numpy as np"
   ]
  },
  {
   "cell_type": "code",
   "execution_count": 36,
   "metadata": {},
   "outputs": [],
   "source": [
    "# W1 is  4x2\n",
    "# For first layer Z=4x1, W= 2x4, b=4x1\n",
    "np.random.seed(seed= 289)\n",
    "x = np.array([[0.4], [0.2]])\n",
    "W1 = np.random.rand(2,4)\n",
    "b1 = np.random.rand(4,1) # You find the value of b1"
   ]
  },
  {
   "cell_type": "code",
   "execution_count": 11,
   "metadata": {},
   "outputs": [
    {
     "data": {
      "text/plain": [
       "array([[0.13835837],\n",
       "       [0.5597355 ],\n",
       "       [0.48966863],\n",
       "       [0.61544854]])"
      ]
     },
     "execution_count": 11,
     "metadata": {},
     "output_type": "execute_result"
    }
   ],
   "source": [
    "b1"
   ]
  },
  {
   "cell_type": "code",
   "execution_count": 38,
   "metadata": {},
   "outputs": [
    {
     "data": {
      "text/plain": [
       "array([[0.64721637],\n",
       "       [0.70273636],\n",
       "       [0.65571789],\n",
       "       [0.72844418]])"
      ]
     },
     "execution_count": 38,
     "metadata": {},
     "output_type": "execute_result"
    }
   ],
   "source": [
    "z1 = np.dot(W1.transpose(),x)+b1  # Complete this section\n",
    "a1 = 1/(1+np.exp(-z1))\n",
    "a1"
   ]
  },
  {
   "cell_type": "code",
   "execution_count": 40,
   "metadata": {},
   "outputs": [],
   "source": [
    "# W2 is ?\n",
    "np.random.seed(seed=289)\n",
    "W2 = np.random.rand(4,1)\n",
    "b2 = np.random.rand(1,1)\n"
   ]
  },
  {
   "cell_type": "code",
   "execution_count": 43,
   "metadata": {},
   "outputs": [
    {
     "data": {
      "text/plain": [
       "array([[0.81411292]])"
      ]
     },
     "execution_count": 43,
     "metadata": {},
     "output_type": "execute_result"
    }
   ],
   "source": [
    "z2 = np.dot(W2.transpose(),a1)\n",
    "a2 = 1/(1+np.exp(-z2)) # y\n",
    "a2"
   ]
  },
  {
   "cell_type": "code",
   "execution_count": null,
   "metadata": {},
   "outputs": [],
   "source": [
    "# what is your conclusion? "
   ]
  }
 ],
 "metadata": {
  "kernelspec": {
   "display_name": "Python 3",
   "language": "python",
   "name": "python3"
  },
  "language_info": {
   "codemirror_mode": {
    "name": "ipython",
    "version": 3
   },
   "file_extension": ".py",
   "mimetype": "text/x-python",
   "name": "python",
   "nbconvert_exporter": "python",
   "pygments_lexer": "ipython3",
   "version": "3.8.5"
  }
 },
 "nbformat": 4,
 "nbformat_minor": 2
}
